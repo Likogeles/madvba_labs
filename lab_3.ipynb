{
 "cells": [
  {
   "cell_type": "code",
   "execution_count": 1,
   "id": "2cabb75d",
   "metadata": {},
   "outputs": [
    {
     "name": "stdout",
     "output_type": "stream",
     "text": [
      "<class 'pandas.core.frame.DataFrame'>\n",
      "RangeIndex: 50000 entries, 0 to 49999\n",
      "Data columns (total 15 columns):\n",
      " #   Column                 Non-Null Count  Dtype  \n",
      "---  ------                 --------------  -----  \n",
      " 0   Patient_ID             50000 non-null  object \n",
      " 1   Age                    50000 non-null  int64  \n",
      " 2   Gender                 50000 non-null  object \n",
      " 3   Country_Region         50000 non-null  object \n",
      " 4   Year                   50000 non-null  int64  \n",
      " 5   Genetic_Risk           50000 non-null  float64\n",
      " 6   Air_Pollution          50000 non-null  float64\n",
      " 7   Alcohol_Use            50000 non-null  float64\n",
      " 8   Smoking                50000 non-null  float64\n",
      " 9   Obesity_Level          50000 non-null  float64\n",
      " 10  Cancer_Type            50000 non-null  object \n",
      " 11  Cancer_Stage           50000 non-null  object \n",
      " 12  Treatment_Cost_USD     50000 non-null  float64\n",
      " 13  Survival_Years         50000 non-null  float64\n",
      " 14  Target_Severity_Score  50000 non-null  float64\n",
      "dtypes: float64(8), int64(2), object(5)\n",
      "memory usage: 5.7+ MB\n",
      "None\n"
     ]
    },
    {
     "data": {
      "application/vnd.microsoft.datawrangler.viewer.v0+json": {
       "columns": [
        {
         "name": "index",
         "rawType": "int64",
         "type": "integer"
        },
        {
         "name": "Age",
         "rawType": "int64",
         "type": "integer"
        },
        {
         "name": "Gender",
         "rawType": "object",
         "type": "string"
        },
        {
         "name": "Country_Region",
         "rawType": "object",
         "type": "string"
        },
        {
         "name": "Genetic_Risk",
         "rawType": "float64",
         "type": "float"
        },
        {
         "name": "Air_Pollution",
         "rawType": "float64",
         "type": "float"
        },
        {
         "name": "Alcohol_Use",
         "rawType": "float64",
         "type": "float"
        },
        {
         "name": "Smoking",
         "rawType": "float64",
         "type": "float"
        },
        {
         "name": "Obesity_Level",
         "rawType": "float64",
         "type": "float"
        },
        {
         "name": "Cancer_Type",
         "rawType": "object",
         "type": "string"
        },
        {
         "name": "Cancer_Stage",
         "rawType": "object",
         "type": "string"
        },
        {
         "name": "Survival_Years",
         "rawType": "float64",
         "type": "float"
        },
        {
         "name": "Target_Severity_Score",
         "rawType": "float64",
         "type": "float"
        }
       ],
       "ref": "99c048a5-e229-43a1-8725-1f2af6db3dab",
       "rows": [
        [
         "0",
         "71",
         "Male",
         "UK",
         "6.4",
         "2.8",
         "9.5",
         "0.9",
         "8.7",
         "Lung",
         "Stage III",
         "5.9",
         "4.92"
        ],
        [
         "1",
         "34",
         "Male",
         "China",
         "1.3",
         "4.5",
         "3.7",
         "3.9",
         "6.3",
         "Leukemia",
         "Stage 0",
         "4.7",
         "4.65"
        ],
        [
         "2",
         "80",
         "Male",
         "Pakistan",
         "7.4",
         "7.9",
         "2.4",
         "4.7",
         "0.1",
         "Breast",
         "Stage II",
         "7.1",
         "5.84"
        ],
        [
         "3",
         "40",
         "Male",
         "UK",
         "1.7",
         "2.9",
         "4.8",
         "3.5",
         "2.7",
         "Colon",
         "Stage I",
         "1.6",
         "3.12"
        ],
        [
         "4",
         "43",
         "Female",
         "Brazil",
         "5.1",
         "2.8",
         "2.3",
         "6.7",
         "0.5",
         "Skin",
         "Stage III",
         "2.9",
         "3.62"
        ]
       ],
       "shape": {
        "columns": 12,
        "rows": 5
       }
      },
      "text/html": [
       "<div>\n",
       "<style scoped>\n",
       "    .dataframe tbody tr th:only-of-type {\n",
       "        vertical-align: middle;\n",
       "    }\n",
       "\n",
       "    .dataframe tbody tr th {\n",
       "        vertical-align: top;\n",
       "    }\n",
       "\n",
       "    .dataframe thead th {\n",
       "        text-align: right;\n",
       "    }\n",
       "</style>\n",
       "<table border=\"1\" class=\"dataframe\">\n",
       "  <thead>\n",
       "    <tr style=\"text-align: right;\">\n",
       "      <th></th>\n",
       "      <th>Age</th>\n",
       "      <th>Gender</th>\n",
       "      <th>Country_Region</th>\n",
       "      <th>Genetic_Risk</th>\n",
       "      <th>Air_Pollution</th>\n",
       "      <th>Alcohol_Use</th>\n",
       "      <th>Smoking</th>\n",
       "      <th>Obesity_Level</th>\n",
       "      <th>Cancer_Type</th>\n",
       "      <th>Cancer_Stage</th>\n",
       "      <th>Survival_Years</th>\n",
       "      <th>Target_Severity_Score</th>\n",
       "    </tr>\n",
       "  </thead>\n",
       "  <tbody>\n",
       "    <tr>\n",
       "      <th>0</th>\n",
       "      <td>71</td>\n",
       "      <td>Male</td>\n",
       "      <td>UK</td>\n",
       "      <td>6.4</td>\n",
       "      <td>2.8</td>\n",
       "      <td>9.5</td>\n",
       "      <td>0.9</td>\n",
       "      <td>8.7</td>\n",
       "      <td>Lung</td>\n",
       "      <td>Stage III</td>\n",
       "      <td>5.9</td>\n",
       "      <td>4.92</td>\n",
       "    </tr>\n",
       "    <tr>\n",
       "      <th>1</th>\n",
       "      <td>34</td>\n",
       "      <td>Male</td>\n",
       "      <td>China</td>\n",
       "      <td>1.3</td>\n",
       "      <td>4.5</td>\n",
       "      <td>3.7</td>\n",
       "      <td>3.9</td>\n",
       "      <td>6.3</td>\n",
       "      <td>Leukemia</td>\n",
       "      <td>Stage 0</td>\n",
       "      <td>4.7</td>\n",
       "      <td>4.65</td>\n",
       "    </tr>\n",
       "    <tr>\n",
       "      <th>2</th>\n",
       "      <td>80</td>\n",
       "      <td>Male</td>\n",
       "      <td>Pakistan</td>\n",
       "      <td>7.4</td>\n",
       "      <td>7.9</td>\n",
       "      <td>2.4</td>\n",
       "      <td>4.7</td>\n",
       "      <td>0.1</td>\n",
       "      <td>Breast</td>\n",
       "      <td>Stage II</td>\n",
       "      <td>7.1</td>\n",
       "      <td>5.84</td>\n",
       "    </tr>\n",
       "    <tr>\n",
       "      <th>3</th>\n",
       "      <td>40</td>\n",
       "      <td>Male</td>\n",
       "      <td>UK</td>\n",
       "      <td>1.7</td>\n",
       "      <td>2.9</td>\n",
       "      <td>4.8</td>\n",
       "      <td>3.5</td>\n",
       "      <td>2.7</td>\n",
       "      <td>Colon</td>\n",
       "      <td>Stage I</td>\n",
       "      <td>1.6</td>\n",
       "      <td>3.12</td>\n",
       "    </tr>\n",
       "    <tr>\n",
       "      <th>4</th>\n",
       "      <td>43</td>\n",
       "      <td>Female</td>\n",
       "      <td>Brazil</td>\n",
       "      <td>5.1</td>\n",
       "      <td>2.8</td>\n",
       "      <td>2.3</td>\n",
       "      <td>6.7</td>\n",
       "      <td>0.5</td>\n",
       "      <td>Skin</td>\n",
       "      <td>Stage III</td>\n",
       "      <td>2.9</td>\n",
       "      <td>3.62</td>\n",
       "    </tr>\n",
       "  </tbody>\n",
       "</table>\n",
       "</div>"
      ],
      "text/plain": [
       "   Age  Gender Country_Region  Genetic_Risk  Air_Pollution  Alcohol_Use  \\\n",
       "0   71    Male             UK           6.4            2.8          9.5   \n",
       "1   34    Male          China           1.3            4.5          3.7   \n",
       "2   80    Male       Pakistan           7.4            7.9          2.4   \n",
       "3   40    Male             UK           1.7            2.9          4.8   \n",
       "4   43  Female         Brazil           5.1            2.8          2.3   \n",
       "\n",
       "   Smoking  Obesity_Level Cancer_Type Cancer_Stage  Survival_Years  \\\n",
       "0      0.9            8.7        Lung    Stage III             5.9   \n",
       "1      3.9            6.3    Leukemia      Stage 0             4.7   \n",
       "2      4.7            0.1      Breast     Stage II             7.1   \n",
       "3      3.5            2.7       Colon      Stage I             1.6   \n",
       "4      6.7            0.5        Skin    Stage III             2.9   \n",
       "\n",
       "   Target_Severity_Score  \n",
       "0                   4.92  \n",
       "1                   4.65  \n",
       "2                   5.84  \n",
       "3                   3.12  \n",
       "4                   3.62  "
      ]
     },
     "execution_count": 1,
     "metadata": {},
     "output_type": "execute_result"
    }
   ],
   "source": [
    "# 1. Загрузить набор данных из репозитория. Свой выбор данных  согласовать с преподавателем.\n",
    "import pandas as pd\n",
    "import numpy as np\n",
    "import matplotlib.pyplot as plt\n",
    "import seaborn as sns\n",
    "\n",
    "from sklearn.model_selection import train_test_split\n",
    "from sklearn.preprocessing import StandardScaler, LabelEncoder\n",
    "from sklearn.neighbors import KNeighborsClassifier\n",
    "from sklearn.decomposition import PCA\n",
    "from sklearn.metrics import classification_report, confusion_matrix, accuracy_score\n",
    "from sklearn.preprocessing import LabelEncoder\n",
    "from sklearn.preprocessing import MinMaxScaler\n",
    "\n",
    "df = pd.read_csv(\"./data/global_cancer_patients_2015_2024.csv\")\n",
    "\n",
    "print(df.info())\n",
    "\n",
    "df = df.drop_duplicates()\n",
    "\n",
    "df = df.drop(\"Patient_ID\", axis=1)\n",
    "df = df.drop(\"Treatment_Cost_USD\", axis=1)\n",
    "df = df.drop(\"Year\", axis=1)\n",
    "\n",
    "df.head()"
   ]
  },
  {
   "cell_type": "code",
   "execution_count": null,
   "id": "bf5beb3c",
   "metadata": {},
   "outputs": [],
   "source": [
    "# 5. Отобрать и определить признаки, которые будут использоваться для построения моделей.\n",
    "\n",
    "important_feat = [\n",
    "    \"Age\",\n",
    "    \"Gender\",\n",
    "    \"Country_Region\",\n",
    "    \"Genetic_Risk\",\n",
    "    \"Air_Pollution\",\n",
    "    \"Alcohol_Use\",\n",
    "    \"Smoking\",\n",
    "    \"Obesity_Level\",\n",
    "    \"Cancer_Type\"\n",
    "    \"Cancer_Stage\",\n",
    "]\n",
    "\n",
    "numeric_columns = [\n",
    "    \"Age\",\n",
    "    \"Genetic_Risk\",\n",
    "    \"Air_Pollution\",\n",
    "    \"Alcohol_Use\",\n",
    "    \"Smoking\",\n",
    "    \"Obesity_Level\",\n",
    "    # \"Treatment_Cost_USD\",\n",
    "    \"Survival_Years\",\n",
    "    \"Target_Severity_Score\",\n",
    "]\n",
    "\n",
    "\n",
    "categorical_columns = [\n",
    "    \"Gender\",\n",
    "    \"Country_Region\",\n",
    "    \"Cancer_Type\",\n",
    "    \"Cancer_Stage\",\n",
    "]\n",
    "\n",
    "target = \"Cancer_Type\""
   ]
  },
  {
   "cell_type": "code",
   "execution_count": 3,
   "id": "2af9d090",
   "metadata": {},
   "outputs": [
    {
     "data": {
      "application/vnd.microsoft.datawrangler.viewer.v0+json": {
       "columns": [
        {
         "name": "index",
         "rawType": "int64",
         "type": "integer"
        },
        {
         "name": "Age",
         "rawType": "float64",
         "type": "float"
        },
        {
         "name": "Gender",
         "rawType": "int64",
         "type": "integer"
        },
        {
         "name": "Country_Region",
         "rawType": "int64",
         "type": "integer"
        },
        {
         "name": "Genetic_Risk",
         "rawType": "float64",
         "type": "float"
        },
        {
         "name": "Air_Pollution",
         "rawType": "float64",
         "type": "float"
        },
        {
         "name": "Alcohol_Use",
         "rawType": "float64",
         "type": "float"
        },
        {
         "name": "Smoking",
         "rawType": "float64",
         "type": "float"
        },
        {
         "name": "Obesity_Level",
         "rawType": "float64",
         "type": "float"
        },
        {
         "name": "Cancer_Type",
         "rawType": "int64",
         "type": "integer"
        },
        {
         "name": "Cancer_Stage",
         "rawType": "int64",
         "type": "integer"
        },
        {
         "name": "Survival_Years",
         "rawType": "float64",
         "type": "float"
        },
        {
         "name": "Target_Severity_Score",
         "rawType": "float64",
         "type": "float"
        }
       ],
       "ref": "0725ee7a-dd2d-4866-a29f-22c164d36a85",
       "rows": [
        [
         "0",
         "0.7391304347826086",
         "1",
         "8",
         "0.6400000000000001",
         "0.27999999999999997",
         "0.9500000000000001",
         "0.09000000000000001",
         "0.87",
         "5",
         "3",
         "0.5900000000000001",
         "0.486682808716707"
        ],
        [
         "1",
         "0.2028985507246377",
         "1",
         "3",
         "0.13",
         "0.45",
         "0.37000000000000005",
         "0.39",
         "0.63",
         "3",
         "0",
         "0.47000000000000003",
         "0.45399515738498786"
        ],
        [
         "2",
         "0.8695652173913044",
         "1",
         "6",
         "0.7400000000000001",
         "0.79",
         "0.24",
         "0.47000000000000003",
         "0.010000000000000002",
         "0",
         "2",
         "0.71",
         "0.5980629539951573"
        ],
        [
         "3",
         "0.2898550724637681",
         "1",
         "8",
         "0.17",
         "0.29",
         "0.48",
         "0.35000000000000003",
         "0.27",
         "2",
         "1",
         "0.16000000000000003",
         "0.26876513317191286"
        ],
        [
         "4",
         "0.3333333333333333",
         "0",
         "1",
         "0.51",
         "0.27999999999999997",
         "0.22999999999999998",
         "0.67",
         "0.05",
         "7",
         "3",
         "0.29",
         "0.32929782082324455"
        ]
       ],
       "shape": {
        "columns": 12,
        "rows": 5
       }
      },
      "text/html": [
       "<div>\n",
       "<style scoped>\n",
       "    .dataframe tbody tr th:only-of-type {\n",
       "        vertical-align: middle;\n",
       "    }\n",
       "\n",
       "    .dataframe tbody tr th {\n",
       "        vertical-align: top;\n",
       "    }\n",
       "\n",
       "    .dataframe thead th {\n",
       "        text-align: right;\n",
       "    }\n",
       "</style>\n",
       "<table border=\"1\" class=\"dataframe\">\n",
       "  <thead>\n",
       "    <tr style=\"text-align: right;\">\n",
       "      <th></th>\n",
       "      <th>Age</th>\n",
       "      <th>Gender</th>\n",
       "      <th>Country_Region</th>\n",
       "      <th>Genetic_Risk</th>\n",
       "      <th>Air_Pollution</th>\n",
       "      <th>Alcohol_Use</th>\n",
       "      <th>Smoking</th>\n",
       "      <th>Obesity_Level</th>\n",
       "      <th>Cancer_Type</th>\n",
       "      <th>Cancer_Stage</th>\n",
       "      <th>Survival_Years</th>\n",
       "      <th>Target_Severity_Score</th>\n",
       "    </tr>\n",
       "  </thead>\n",
       "  <tbody>\n",
       "    <tr>\n",
       "      <th>0</th>\n",
       "      <td>0.739130</td>\n",
       "      <td>1</td>\n",
       "      <td>8</td>\n",
       "      <td>0.64</td>\n",
       "      <td>0.28</td>\n",
       "      <td>0.95</td>\n",
       "      <td>0.09</td>\n",
       "      <td>0.87</td>\n",
       "      <td>5</td>\n",
       "      <td>3</td>\n",
       "      <td>0.59</td>\n",
       "      <td>0.486683</td>\n",
       "    </tr>\n",
       "    <tr>\n",
       "      <th>1</th>\n",
       "      <td>0.202899</td>\n",
       "      <td>1</td>\n",
       "      <td>3</td>\n",
       "      <td>0.13</td>\n",
       "      <td>0.45</td>\n",
       "      <td>0.37</td>\n",
       "      <td>0.39</td>\n",
       "      <td>0.63</td>\n",
       "      <td>3</td>\n",
       "      <td>0</td>\n",
       "      <td>0.47</td>\n",
       "      <td>0.453995</td>\n",
       "    </tr>\n",
       "    <tr>\n",
       "      <th>2</th>\n",
       "      <td>0.869565</td>\n",
       "      <td>1</td>\n",
       "      <td>6</td>\n",
       "      <td>0.74</td>\n",
       "      <td>0.79</td>\n",
       "      <td>0.24</td>\n",
       "      <td>0.47</td>\n",
       "      <td>0.01</td>\n",
       "      <td>0</td>\n",
       "      <td>2</td>\n",
       "      <td>0.71</td>\n",
       "      <td>0.598063</td>\n",
       "    </tr>\n",
       "    <tr>\n",
       "      <th>3</th>\n",
       "      <td>0.289855</td>\n",
       "      <td>1</td>\n",
       "      <td>8</td>\n",
       "      <td>0.17</td>\n",
       "      <td>0.29</td>\n",
       "      <td>0.48</td>\n",
       "      <td>0.35</td>\n",
       "      <td>0.27</td>\n",
       "      <td>2</td>\n",
       "      <td>1</td>\n",
       "      <td>0.16</td>\n",
       "      <td>0.268765</td>\n",
       "    </tr>\n",
       "    <tr>\n",
       "      <th>4</th>\n",
       "      <td>0.333333</td>\n",
       "      <td>0</td>\n",
       "      <td>1</td>\n",
       "      <td>0.51</td>\n",
       "      <td>0.28</td>\n",
       "      <td>0.23</td>\n",
       "      <td>0.67</td>\n",
       "      <td>0.05</td>\n",
       "      <td>7</td>\n",
       "      <td>3</td>\n",
       "      <td>0.29</td>\n",
       "      <td>0.329298</td>\n",
       "    </tr>\n",
       "  </tbody>\n",
       "</table>\n",
       "</div>"
      ],
      "text/plain": [
       "        Age  Gender  Country_Region  Genetic_Risk  Air_Pollution  Alcohol_Use  \\\n",
       "0  0.739130       1               8          0.64           0.28         0.95   \n",
       "1  0.202899       1               3          0.13           0.45         0.37   \n",
       "2  0.869565       1               6          0.74           0.79         0.24   \n",
       "3  0.289855       1               8          0.17           0.29         0.48   \n",
       "4  0.333333       0               1          0.51           0.28         0.23   \n",
       "\n",
       "   Smoking  Obesity_Level  Cancer_Type  Cancer_Stage  Survival_Years  \\\n",
       "0     0.09           0.87            5             3            0.59   \n",
       "1     0.39           0.63            3             0            0.47   \n",
       "2     0.47           0.01            0             2            0.71   \n",
       "3     0.35           0.27            2             1            0.16   \n",
       "4     0.67           0.05            7             3            0.29   \n",
       "\n",
       "   Target_Severity_Score  \n",
       "0               0.486683  \n",
       "1               0.453995  \n",
       "2               0.598063  \n",
       "3               0.268765  \n",
       "4               0.329298  "
      ]
     },
     "execution_count": 3,
     "metadata": {},
     "output_type": "execute_result"
    }
   ],
   "source": [
    "df[numeric_columns] = MinMaxScaler().fit_transform(df[numeric_columns])\n",
    "# Преобразование категориальных признаков\n",
    "df[categorical_columns] = df[categorical_columns].apply(LabelEncoder().fit_transform) # type: ignore\n",
    "\n",
    "df.head()"
   ]
  },
  {
   "cell_type": "code",
   "execution_count": 4,
   "id": "2d562771",
   "metadata": {},
   "outputs": [
    {
     "name": "stdout",
     "output_type": "stream",
     "text": [
      "Классификация до PCA:\n",
      "              precision    recall  f1-score   support\n",
      "\n",
      "           0       1.00      1.00      1.00      1262\n",
      "           1       1.00      1.00      1.00      1231\n",
      "           2       1.00      1.00      1.00      1283\n",
      "           3       1.00      1.00      1.00      1233\n",
      "           4       1.00      1.00      1.00      1259\n",
      "           5       1.00      1.00      1.00      1230\n",
      "           6       1.00      1.00      1.00      1269\n",
      "           7       1.00      1.00      1.00      1233\n",
      "\n",
      "    accuracy                           1.00     10000\n",
      "   macro avg       1.00      1.00      1.00     10000\n",
      "weighted avg       1.00      1.00      1.00     10000\n",
      "\n",
      "Accuracy: 0.9999\n"
     ]
    },
    {
     "data": {
      "image/png": "[encoded data removed]",
      "text/plain": [
       "<Figure size 640x480 with 2 Axes>"
      ]
     },
     "metadata": {},
     "output_type": "display_data"
    }
   ],
   "source": [
    "X = df\n",
    "y = df[\"Cancer_Type\"]\n",
    "\n",
    "\n",
    "X_train, X_test, y_train, y_test = train_test_split(\n",
    "    X, y, test_size=0.2, random_state=42\n",
    ")\n",
    "\n",
    "knn = KNeighborsClassifier(n_neighbors=5)\n",
    "knn.fit(X_train, y_train)\n",
    "\n",
    "\n",
    "y_pred = knn.predict(X_test)\n",
    "\n",
    "\n",
    "print(\"Классификация до PCA:\")\n",
    "print(classification_report(y_test, y_pred))\n",
    "print(\"Accuracy:\", accuracy_score(y_test, y_pred))\n",
    "\n",
    "\n",
    "sns.heatmap(confusion_matrix(y_test, y_pred), annot=True, fmt=\"d\", cmap=\"Blues\")\n",
    "plt.title(\"Confusion Matrix до PCA\")\n",
    "plt.xlabel(\"Predicted\")\n",
    "plt.ylabel(\"Actual\")\n",
    "plt.show()"
   ]
  },
  {
   "cell_type": "code",
   "execution_count": 45,
   "id": "800f0965",
   "metadata": {},
   "outputs": [],
   "source": [
    "scaler = StandardScaler()\n",
    "X_scaled = scaler.fit_transform(X)\n",
    "\n",
    "pca = PCA(n_components=9)\n",
    "X_pca = pca.fit_transform(X_scaled)\n",
    "\n",
    "# plt.scatter(X_pca[:, 0], X_pca[:, 1], c=y, cmap=\"Set1\", alpha=0.6)\n",
    "# plt.xlabel(\"PCA 1\")\n",
    "# plt.ylabel(\"PCA 2\")\n",
    "# plt.title(\"PCA визуализация\")\n",
    "# plt.colorbar()\n",
    "# plt.show()"
   ]
  },
  {
   "cell_type": "code",
   "execution_count": null,
   "id": "0daa45a0",
   "metadata": {},
   "outputs": [
    {
     "name": "stdout",
     "output_type": "stream",
     "text": [
      "Классификация после PCA:\n",
      "              precision    recall  f1-score   support\n",
      "\n",
      "           0       0.49      0.58      0.53      1262\n",
      "           1       0.30      0.34      0.32      1231\n",
      "           2       0.30      0.30      0.30      1283\n",
      "           3       0.28      0.29      0.28      1233\n",
      "           4       0.27      0.26      0.27      1259\n",
      "           5       0.26      0.27      0.26      1230\n",
      "           6       0.35      0.33      0.34      1269\n",
      "           7       0.60      0.44      0.50      1233\n",
      "\n",
      "    accuracy                           0.35     10000\n",
      "   macro avg       0.36      0.35      0.35     10000\n",
      "weighted avg       0.36      0.35      0.35     10000\n",
      "\n",
      "Accuracy: 0.3505\n"
     ]
    },
    {
     "data": {
      "image/png": "[encoded data removed]",
      "text/plain": [
       "<Figure size 640x480 with 2 Axes>"
      ]
     },
     "metadata": {},
     "output_type": "display_data"
    }
   ],
   "source": [
    "X_train_pca, X_test_pca, y_train_pca, y_test_pca = train_test_split(\n",
    "    X_pca, y, test_size=0.2, random_state=42\n",
    ")\n",
    "\n",
    "\n",
    "knn_pca = KNeighborsClassifier(n_neighbors=5)\n",
    "knn_pca.fit(X_train_pca, y_train_pca)\n",
    "\n",
    "\n",
    "y_pred_pca = knn_pca.predict(X_test_pca)\n",
    "\n",
    "\n",
    "print(\"Классификация после PCA:\")\n",
    "print(classification_report(y_test_pca, y_pred_pca))\n",
    "print(\"Accuracy:\", accuracy_score(y_test_pca, y_pred_pca))\n",
    "\n",
    "sns.heatmap(\n",
    "    confusion_matrix(y_test_pca, y_pred_pca), annot=True, fmt=\"d\", cmap=\"Greens\"\n",
    ")\n",
    "plt.title(\"Confusion Matrix после PCA\")\n",
    "plt.xlabel(\"Predicted\")\n",
    "plt.ylabel(\"Actual\")\n",
    "plt.show()"
   ]
  },
  {
   "cell_type": "code",
   "execution_count": 47,
   "id": "72d7de9b",
   "metadata": {},
   "outputs": [
    {
     "name": "stdout",
     "output_type": "stream",
     "text": [
      "Точность до уменьшения размерности: 0.9999\n",
      "Точность после уменьшения размерности: 0.3505\n"
     ]
    }
   ],
   "source": [
    "print(\"Точность до уменьшения размерности:\", accuracy_score(y_test, y_pred))\n",
    "print(\"Точность после уменьшения размерности:\", accuracy_score(y_test_pca, y_pred_pca))"
   ]
  },
  {
   "cell_type": "code",
   "execution_count": 53,
   "id": "ef561dd2",
   "metadata": {},
   "outputs": [
    {
     "data": {
      "image/png": "[encoded data removed]",
      "text/plain": [
       "<Figure size 640x480 with 1 Axes>"
      ]
     },
     "metadata": {},
     "output_type": "display_data"
    }
   ],
   "source": [
    "# выводы по алгоритму снижения размерности\n",
    "# Лучшее количество компонент - 9\n",
    "\n",
    "# PCA анализа долей объяснённой дисперсии\n",
    "pca_full = PCA().fit(X_scaled)\n",
    "explained_variance_ratio = pca_full.explained_variance_ratio_\n",
    "\n",
    "# Кумулятивная доля\n",
    "cumulative_variance = np.cumsum(explained_variance_ratio)\n",
    "\n",
    "plt.plot(range(1, len(cumulative_variance) + 1), cumulative_variance, marker=\"o\")\n",
    "plt.axhline(y=0.9, color=\"r\", linestyle=\"--\", label=\"90% дисперсии\")\n",
    "plt.title(\"Кумулятивная объяснённая дисперсия PCA\")\n",
    "plt.xlabel(\"Количество компонент\")\n",
    "plt.ylabel(\"Объяснённая дисперсия\")\n",
    "plt.legend()\n",
    "plt.grid(True)\n",
    "plt.show()"
   ]
  }
 ],
 "metadata": {
  "kernelspec": {
   "display_name": "Python 3",
   "language": "python",
   "name": "python3"
  },
  "language_info": {
   "codemirror_mode": {
    "name": "ipython",
    "version": 3
   },
   "file_extension": ".py",
   "mimetype": "text/x-python",
   "name": "python",
   "nbconvert_exporter": "python",
   "pygments_lexer": "ipython3",
   "version": "3.13.3"
  }
 },
 "nbformat": 4,
 "nbformat_minor": 5
}
