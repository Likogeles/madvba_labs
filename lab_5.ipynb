{
 "cells": [
  {
   "cell_type": "code",
   "execution_count": 1,
   "id": "2cabb75d",
   "metadata": {},
   "outputs": [
    {
     "name": "stdout",
     "output_type": "stream",
     "text": [
      "<class 'pandas.core.frame.DataFrame'>\n",
      "RangeIndex: 50000 entries, 0 to 49999\n",
      "Data columns (total 15 columns):\n",
      " #   Column                 Non-Null Count  Dtype  \n",
      "---  ------                 --------------  -----  \n",
      " 0   Patient_ID             50000 non-null  object \n",
      " 1   Age                    50000 non-null  int64  \n",
      " 2   Gender                 50000 non-null  object \n",
      " 3   Country_Region         50000 non-null  object \n",
      " 4   Year                   50000 non-null  int64  \n",
      " 5   Genetic_Risk           50000 non-null  float64\n",
      " 6   Air_Pollution          50000 non-null  float64\n",
      " 7   Alcohol_Use            50000 non-null  float64\n",
      " 8   Smoking                50000 non-null  float64\n",
      " 9   Obesity_Level          50000 non-null  float64\n",
      " 10  Cancer_Type            50000 non-null  object \n",
      " 11  Cancer_Stage           50000 non-null  object \n",
      " 12  Treatment_Cost_USD     50000 non-null  float64\n",
      " 13  Survival_Years         50000 non-null  float64\n",
      " 14  Target_Severity_Score  50000 non-null  float64\n",
      "dtypes: float64(8), int64(2), object(5)\n",
      "memory usage: 5.7+ MB\n",
      "None\n"
     ]
    },
    {
     "data": {
      "application/vnd.microsoft.datawrangler.viewer.v0+json": {
       "columns": [
        {
         "name": "index",
         "rawType": "int64",
         "type": "integer"
        },
        {
         "name": "Age",
         "rawType": "int64",
         "type": "integer"
        },
        {
         "name": "Gender",
         "rawType": "object",
         "type": "string"
        },
        {
         "name": "Country_Region",
         "rawType": "object",
         "type": "string"
        },
        {
         "name": "Genetic_Risk",
         "rawType": "float64",
         "type": "float"
        },
        {
         "name": "Air_Pollution",
         "rawType": "float64",
         "type": "float"
        },
        {
         "name": "Alcohol_Use",
         "rawType": "float64",
         "type": "float"
        },
        {
         "name": "Smoking",
         "rawType": "float64",
         "type": "float"
        },
        {
         "name": "Obesity_Level",
         "rawType": "float64",
         "type": "float"
        },
        {
         "name": "Cancer_Type",
         "rawType": "object",
         "type": "string"
        },
        {
         "name": "Cancer_Stage",
         "rawType": "object",
         "type": "string"
        },
        {
         "name": "Survival_Years",
         "rawType": "float64",
         "type": "float"
        },
        {
         "name": "Target_Severity_Score",
         "rawType": "float64",
         "type": "float"
        }
       ],
       "ref": "ca594bb0-ae5a-4316-b168-e1682ac603c4",
       "rows": [
        [
         "0",
         "71",
         "Male",
         "UK",
         "6.4",
         "2.8",
         "9.5",
         "0.9",
         "8.7",
         "Lung",
         "Stage III",
         "5.9",
         "4.92"
        ],
        [
         "1",
         "34",
         "Male",
         "China",
         "1.3",
         "4.5",
         "3.7",
         "3.9",
         "6.3",
         "Leukemia",
         "Stage 0",
         "4.7",
         "4.65"
        ],
        [
         "2",
         "80",
         "Male",
         "Pakistan",
         "7.4",
         "7.9",
         "2.4",
         "4.7",
         "0.1",
         "Breast",
         "Stage II",
         "7.1",
         "5.84"
        ],
        [
         "3",
         "40",
         "Male",
         "UK",
         "1.7",
         "2.9",
         "4.8",
         "3.5",
         "2.7",
         "Colon",
         "Stage I",
         "1.6",
         "3.12"
        ],
        [
         "4",
         "43",
         "Female",
         "Brazil",
         "5.1",
         "2.8",
         "2.3",
         "6.7",
         "0.5",
         "Skin",
         "Stage III",
         "2.9",
         "3.62"
        ]
       ],
       "shape": {
        "columns": 12,
        "rows": 5
       }
      },
      "text/html": [
       "<div>\n",
       "<style scoped>\n",
       "    .dataframe tbody tr th:only-of-type {\n",
       "        vertical-align: middle;\n",
       "    }\n",
       "\n",
       "    .dataframe tbody tr th {\n",
       "        vertical-align: top;\n",
       "    }\n",
       "\n",
       "    .dataframe thead th {\n",
       "        text-align: right;\n",
       "    }\n",
       "</style>\n",
       "<table border=\"1\" class=\"dataframe\">\n",
       "  <thead>\n",
       "    <tr style=\"text-align: right;\">\n",
       "      <th></th>\n",
       "      <th>Age</th>\n",
       "      <th>Gender</th>\n",
       "      <th>Country_Region</th>\n",
       "      <th>Genetic_Risk</th>\n",
       "      <th>Air_Pollution</th>\n",
       "      <th>Alcohol_Use</th>\n",
       "      <th>Smoking</th>\n",
       "      <th>Obesity_Level</th>\n",
       "      <th>Cancer_Type</th>\n",
       "      <th>Cancer_Stage</th>\n",
       "      <th>Survival_Years</th>\n",
       "      <th>Target_Severity_Score</th>\n",
       "    </tr>\n",
       "  </thead>\n",
       "  <tbody>\n",
       "    <tr>\n",
       "      <th>0</th>\n",
       "      <td>71</td>\n",
       "      <td>Male</td>\n",
       "      <td>UK</td>\n",
       "      <td>6.4</td>\n",
       "      <td>2.8</td>\n",
       "      <td>9.5</td>\n",
       "      <td>0.9</td>\n",
       "      <td>8.7</td>\n",
       "      <td>Lung</td>\n",
       "      <td>Stage III</td>\n",
       "      <td>5.9</td>\n",
       "      <td>4.92</td>\n",
       "    </tr>\n",
       "    <tr>\n",
       "      <th>1</th>\n",
       "      <td>34</td>\n",
       "      <td>Male</td>\n",
       "      <td>China</td>\n",
       "      <td>1.3</td>\n",
       "      <td>4.5</td>\n",
       "      <td>3.7</td>\n",
       "      <td>3.9</td>\n",
       "      <td>6.3</td>\n",
       "      <td>Leukemia</td>\n",
       "      <td>Stage 0</td>\n",
       "      <td>4.7</td>\n",
       "      <td>4.65</td>\n",
       "    </tr>\n",
       "    <tr>\n",
       "      <th>2</th>\n",
       "      <td>80</td>\n",
       "      <td>Male</td>\n",
       "      <td>Pakistan</td>\n",
       "      <td>7.4</td>\n",
       "      <td>7.9</td>\n",
       "      <td>2.4</td>\n",
       "      <td>4.7</td>\n",
       "      <td>0.1</td>\n",
       "      <td>Breast</td>\n",
       "      <td>Stage II</td>\n",
       "      <td>7.1</td>\n",
       "      <td>5.84</td>\n",
       "    </tr>\n",
       "    <tr>\n",
       "      <th>3</th>\n",
       "      <td>40</td>\n",
       "      <td>Male</td>\n",
       "      <td>UK</td>\n",
       "      <td>1.7</td>\n",
       "      <td>2.9</td>\n",
       "      <td>4.8</td>\n",
       "      <td>3.5</td>\n",
       "      <td>2.7</td>\n",
       "      <td>Colon</td>\n",
       "      <td>Stage I</td>\n",
       "      <td>1.6</td>\n",
       "      <td>3.12</td>\n",
       "    </tr>\n",
       "    <tr>\n",
       "      <th>4</th>\n",
       "      <td>43</td>\n",
       "      <td>Female</td>\n",
       "      <td>Brazil</td>\n",
       "      <td>5.1</td>\n",
       "      <td>2.8</td>\n",
       "      <td>2.3</td>\n",
       "      <td>6.7</td>\n",
       "      <td>0.5</td>\n",
       "      <td>Skin</td>\n",
       "      <td>Stage III</td>\n",
       "      <td>2.9</td>\n",
       "      <td>3.62</td>\n",
       "    </tr>\n",
       "  </tbody>\n",
       "</table>\n",
       "</div>"
      ],
      "text/plain": [
       "   Age  Gender Country_Region  Genetic_Risk  Air_Pollution  Alcohol_Use  \\\n",
       "0   71    Male             UK           6.4            2.8          9.5   \n",
       "1   34    Male          China           1.3            4.5          3.7   \n",
       "2   80    Male       Pakistan           7.4            7.9          2.4   \n",
       "3   40    Male             UK           1.7            2.9          4.8   \n",
       "4   43  Female         Brazil           5.1            2.8          2.3   \n",
       "\n",
       "   Smoking  Obesity_Level Cancer_Type Cancer_Stage  Survival_Years  \\\n",
       "0      0.9            8.7        Lung    Stage III             5.9   \n",
       "1      3.9            6.3    Leukemia      Stage 0             4.7   \n",
       "2      4.7            0.1      Breast     Stage II             7.1   \n",
       "3      3.5            2.7       Colon      Stage I             1.6   \n",
       "4      6.7            0.5        Skin    Stage III             2.9   \n",
       "\n",
       "   Target_Severity_Score  \n",
       "0                   4.92  \n",
       "1                   4.65  \n",
       "2                   5.84  \n",
       "3                   3.12  \n",
       "4                   3.62  "
      ]
     },
     "execution_count": 1,
     "metadata": {},
     "output_type": "execute_result"
    }
   ],
   "source": [
    "# 1. Загрузить набор данных из репозитория. Свой выбор данных  согласовать с преподавателем.\n",
    "import pandas as pd\n",
    "import matplotlib.pyplot as plt\n",
    "import seaborn as sns\n",
    "\n",
    "from sklearn.preprocessing import StandardScaler, LabelEncoder\n",
    "from sklearn.decomposition import PCA\n",
    "from sklearn.cluster import KMeans, DBSCAN, AgglomerativeClustering\n",
    "from sklearn.metrics import silhouette_score, davies_bouldin_score\n",
    "\n",
    "from scipy.cluster.hierarchy import dendrogram, linkage\n",
    "\n",
    "\n",
    "df = pd.read_csv(\"./data/global_cancer_patients_2015_2024.csv\")\n",
    "\n",
    "print(df.info())\n",
    "\n",
    "df = df.drop_duplicates()\n",
    "\n",
    "df = df.drop(\"Patient_ID\", axis=1)\n",
    "df = df.drop(\"Treatment_Cost_USD\", axis=1)\n",
    "df = df.drop(\"Year\", axis=1)\n",
    "\n",
    "df.head()\n",
    "\n",
    "\n",
    "# 5. Отобрать и определить признаки, которые будут использоваться для построения моделей.\n",
    "\n",
    "important_feat = [\n",
    "    \"Age\",\n",
    "    \"Gender\",\n",
    "    \"Country_Region\",\n",
    "    \"Genetic_Risk\",\n",
    "    \"Air_Pollution\",\n",
    "    \"Alcohol_Use\",\n",
    "    \"Smoking\",\n",
    "    \"Obesity_Level\",\n",
    "    \"Cancer_Type\" \"Cancer_Stage\",\n",
    "]\n",
    "\n",
    "numeric_columns = [\n",
    "    \"Age\",\n",
    "    \"Genetic_Risk\",\n",
    "    \"Air_Pollution\",\n",
    "    \"Alcohol_Use\",\n",
    "    \"Smoking\",\n",
    "    \"Obesity_Level\",\n",
    "    \"Survival_Years\",\n",
    "    \"Target_Severity_Score\",\n",
    "]\n",
    "\n",
    "\n",
    "categorical_columns = [\n",
    "    \"Gender\",\n",
    "    \"Country_Region\",\n",
    "    \"Cancer_Type\",\n",
    "    \"Cancer_Stage\",\n",
    "]\n",
    "\n",
    "target = \"Cancer_type\"\n",
    "df.head()"
   ]
  },
  {
   "cell_type": "code",
   "execution_count": 2,
   "id": "42bd646d",
   "metadata": {},
   "outputs": [],
   "source": [
    "df_encoded = df.copy()\n",
    "\n",
    "for col in categorical_columns:\n",
    "    df_encoded[col] = LabelEncoder().fit_transform(df[col])\n",
    "\n",
    "scaler = StandardScaler()\n",
    "X_scaled = scaler.fit_transform(df_encoded)"
   ]
  },
  {
   "cell_type": "code",
   "execution_count": 3,
   "id": "0f808606",
   "metadata": {},
   "outputs": [
    {
     "data": {
      "image/png": "[encoded data removed]",
      "text/plain": [
       "<Figure size 640x480 with 1 Axes>"
      ]
     },
     "metadata": {},
     "output_type": "display_data"
    }
   ],
   "source": [
    "df_encoded.head()\n",
    "\n",
    "# Метод локтя\n",
    "sse = []\n",
    "k_range = range(1, 11)\n",
    "\n",
    "for k in k_range:\n",
    "    kmeans = KMeans(n_clusters=k, init=\"k-means++\", random_state=42)\n",
    "    kmeans.fit(X_scaled)\n",
    "    sse.append(kmeans.inertia_)\n",
    "\n",
    "plt.plot(k_range, sse, marker=\"o\")\n",
    "plt.xlabel(\"Количество кластеров\")\n",
    "plt.ylabel(\"SSE\")\n",
    "plt.title(\"Метод локтя\")\n",
    "plt.grid(True)\n",
    "plt.show()\n",
    "\n",
    "# k=4\n",
    "kmeans = KMeans(n_clusters=4, init=\"k-means++\", random_state=42)\n",
    "labels_kmeans = kmeans.fit_predict(X_scaled)"
   ]
  },
  {
   "cell_type": "code",
   "execution_count": 4,
   "id": "34767fe1",
   "metadata": {},
   "outputs": [],
   "source": [
    "# Дендрограмма\n",
    "# linked = linkage(X_scaled, method=\"ward\")\n",
    "\n",
    "# plt.figure(figsize=(10, 5))\n",
    "# dendrogram(linked)\n",
    "# plt.title(\"Дендрограмма\")\n",
    "# plt.xlabel(\"Объекты\")\n",
    "# plt.ylabel(\"Расстояние\")\n",
    "# plt.show()"
   ]
  },
  {
   "cell_type": "code",
   "execution_count": null,
   "id": "6d8d416f",
   "metadata": {},
   "outputs": [],
   "source": [
    "# 4 кластера\n",
    "agglo = AgglomerativeClustering(n_clusters=4, linkage=\"ward\")\n",
    "\n",
    "labels_agglo = agglo.fit_predict(X_scaled)"
   ]
  },
  {
   "cell_type": "code",
   "execution_count": null,
   "id": "14defc34",
   "metadata": {},
   "outputs": [],
   "source": [
    "# Простой подбор параметров eps и min_samples\n",
    "dbscan = DBSCAN(eps=1.5, min_samples=5)\n",
    "labels_dbscan = dbscan.fit_predict(X_scaled)"
   ]
  },
  {
   "cell_type": "code",
   "execution_count": null,
   "id": "cdafaf16",
   "metadata": {},
   "outputs": [
    {
     "name": "stdout",
     "output_type": "stream",
     "text": [
      "KMeans++:\n",
      "Silhouette Score: 0.064, Davies-Bouldin Index: 2.993\n",
      "Agglomerative:\n",
      "Silhouette Score: 0.020, Davies-Bouldin Index: 4.088\n",
      "DBSCAN:\n",
      "Недостаточно кластеров для оценки или есть выбросы.\n"
     ]
    }
   ],
   "source": [
    "def evaluate_clustering(X, labels):\n",
    "    if len(set(labels)) > 1 and -1 not in labels:\n",
    "        silhouette = silhouette_score(X, labels)\n",
    "        db_index = davies_bouldin_score(X, labels)\n",
    "        print(\n",
    "            f\"Silhouette Score: {silhouette:.3f}, Davies-Bouldin Index: {db_index:.3f}\"\n",
    "        )\n",
    "    else:\n",
    "        print(\"Недостаточно кластеров для оценки или есть выбросы.\")\n",
    "\n",
    "\n",
    "print(\"KMeans++:\")\n",
    "evaluate_clustering(X_scaled, labels_kmeans)\n",
    "\n",
    "print(\"Agglomerative:\")\n",
    "evaluate_clustering(X_scaled, labels_agglo)\n",
    "\n",
    "print(\"DBSCAN:\")\n",
    "evaluate_clustering(X_scaled, labels_dbscan)"
   ]
  },
  {
   "cell_type": "code",
   "execution_count": null,
   "id": "8baa014d",
   "metadata": {},
   "outputs": [],
   "source": [
    "pca = PCA(n_components=2)\n",
    "X_pca = pca.fit_transform(X_scaled)\n",
    "\n",
    "plt.figure(figsize=(15, 4))\n",
    "\n",
    "plt.subplot(1, 3, 1)\n",
    "sns.scatterplot(x=X_pca[:, 0], y=X_pca[:, 1], hue=labels_kmeans, palette=\"Set1\")\n",
    "plt.title(\"KMeans++\")\n",
    "\n",
    "plt.subplot(1, 3, 2)\n",
    "sns.scatterplot(x=X_pca[:, 0], y=X_pca[:, 1], hue=labels_agglo, palette=\"Set2\")\n",
    "plt.title(\"Agglomerative\")\n",
    "\n",
    "plt.subplot(1, 3, 3)\n",
    "sns.scatterplot(x=X_pca[:, 0], y=X_pca[:, 1], hue=labels_dbscan, palette=\"Set3\")\n",
    "plt.title(\"DBSCAN\")\n",
    "\n",
    "plt.show()"
   ]
  },
  {
   "cell_type": "code",
   "execution_count": null,
   "id": "d7a36f4a",
   "metadata": {},
   "outputs": [
    {
     "ename": "NameError",
     "evalue": "name 'X_scaled' is not defined",
     "output_type": "error",
     "traceback": [
      "\u001b[31m---------------------------------------------------------------------------\u001b[39m",
      "\u001b[31mNameError\u001b[39m                                 Traceback (most recent call last)",
      "\u001b[36mCell\u001b[39m\u001b[36m \u001b[39m\u001b[32mIn[1]\u001b[39m\u001b[32m, line 11\u001b[39m\n\u001b[32m      9\u001b[39m k = \u001b[32m5\u001b[39m\n\u001b[32m     10\u001b[39m nn = NearestNeighbors(n_neighbors=k)\n\u001b[32m---> \u001b[39m\u001b[32m11\u001b[39m nn.fit(\u001b[43mX_scaled\u001b[49m)\n\u001b[32m     12\u001b[39m distances, _ = nn.kneighbors(X_scaled)\n\u001b[32m     13\u001b[39m distances = np.sort(distances[:, k - \u001b[32m1\u001b[39m])\n",
      "\u001b[31mNameError\u001b[39m: name 'X_scaled' is not defined"
     ]
    }
   ],
   "source": [
    "# Настроить разные гипперпараметры для DBSCAN\n",
    "# Удалить шумывые объекты\n",
    "# Использовать метрики оценки качества алгоритмов кластеризации (внутренние и внешние), коэффициент силуэта\n",
    "# На основании каких признаков определены кластеры для каждого алгоритма\n",
    "\n",
    "from sklearn.neighbors import NearestNeighbors\n",
    "\n",
    "# Построим график расстояний до k-го соседа (k = min_samples)\n",
    "k = 5\n",
    "nn = NearestNeighbors(n_neighbors=k)\n",
    "nn.fit(X_scaled)\n",
    "distances, _ = nn.kneighbors(X_scaled)\n",
    "distances = np.sort(distances[:, k - 1])\n",
    "\n",
    "plt.figure(figsize=(8, 4))\n",
    "plt.plot(distances)\n",
    "plt.xlabel(\"Точки (отсортированы)\")\n",
    "plt.ylabel(f\"Расстояние до {k}-го соседа\")\n",
    "plt.title(\"График расстояний до k-го соседа\")\n",
    "plt.grid(True)\n",
    "plt.show()"
   ]
  },
  {
   "cell_type": "code",
   "execution_count": null,
   "id": "2dfd0eed",
   "metadata": {},
   "outputs": [],
   "source": [
    "eps_values = [0.8, 1.0, 1.2, 1.5]\n",
    "min_samples_values = [3, 5, 7]\n",
    "\n",
    "for eps in eps_values:\n",
    "    for min_samples in min_samples_values:\n",
    "        dbscan = DBSCAN(eps=eps, min_samples=min_samples)\n",
    "        labels = dbscan.fit_predict(X_scaled)\n",
    "        n_clusters = len(set(labels)) - (1 if -1 in labels else 0)\n",
    "        print(\n",
    "            f\"eps={eps}, min_samples={min_samples} => clusters: {n_clusters}, noise: {(labels == -1).sum()}\"\n",
    "        )"
   ]
  },
  {
   "cell_type": "code",
   "execution_count": null,
   "id": "643537c1",
   "metadata": {},
   "outputs": [],
   "source": [
    "# Удалим шумы\n",
    "labels_dbscan = dbscan.fit_predict(X_scaled)\n",
    "mask_core = labels_dbscan != -1\n",
    "\n",
    "X_dbscan_clean = X_scaled[mask_core]\n",
    "labels_dbscan_clean = labels_dbscan[mask_core]"
   ]
  },
  {
   "cell_type": "code",
   "execution_count": null,
   "id": "de5816c2",
   "metadata": {},
   "outputs": [],
   "source": [
    "from sklearn.metrics import (\n",
    "    silhouette_score,\n",
    "    davies_bouldin_score,\n",
    "    calinski_harabasz_score,\n",
    ")\n",
    "\n",
    "\n",
    "def evaluate_internal(X, labels, name):\n",
    "    if len(set(labels)) > 1 and -1 not in labels:\n",
    "        print(f\"Метрики для {name}:\")\n",
    "        print(f\" - Silhouette Score: {silhouette_score(X, labels):.3f}\")\n",
    "        print(f\" - Davies-Bouldin Index: {davies_bouldin_score(X, labels):.3f}\")\n",
    "        print(f\" - Calinski-Harabasz Index: {calinski_harabasz_score(X, labels):.3f}\")\n",
    "    else:\n",
    "        print(f\"Недостаточно кластеров для оценки ({name}).\")\n",
    "\n",
    "\n",
    "evaluate_internal(X_scaled, labels_kmeans, \"KMeans++\")\n",
    "evaluate_internal(X_scaled, labels_agglo, \"Agglomerative\")\n",
    "evaluate_internal(X_dbscan_clean, labels_dbscan_clean, \"DBSCAN (без шумов)\")"
   ]
  },
  {
   "cell_type": "code",
   "execution_count": null,
   "id": "15abb458",
   "metadata": {},
   "outputs": [],
   "source": [
    "pca = PCA(n_components=2)\n",
    "X_pca = pca.fit_transform(X_scaled)\n",
    "\n",
    "# Визуализация\n",
    "plt.scatter(X_pca[:, 0], X_pca[:, 1], c=labels_kmeans, cmap=\"Set1\")\n",
    "plt.title(\"Кластеры KMeans в проекции PCA\")\n",
    "plt.xlabel(\"PCA 1\")\n",
    "plt.ylabel(\"PCA 2\")\n",
    "plt.colorbar()\n",
    "plt.show()\n",
    "\n",
    "# Посмотрим, какие признаки сильнее влияют на компоненты\n",
    "loadings = pd.DataFrame(\n",
    "    pca.components_.T, columns=[\"PC1\", \"PC2\"], index=df_encoded.columns\n",
    ")\n",
    "\n",
    "print(\"Вклад признаков в главные компоненты:\")\n",
    "print(loadings)"
   ]
  }
 ],
 "metadata": {
  "kernelspec": {
   "display_name": "Python 3",
   "language": "python",
   "name": "python3"
  },
  "language_info": {
   "codemirror_mode": {
    "name": "ipython",
    "version": 3
   },
   "file_extension": ".py",
   "mimetype": "text/x-python",
   "name": "python",
   "nbconvert_exporter": "python",
   "pygments_lexer": "ipython3",
   "version": "3.13.3"
  }
 },
 "nbformat": 4,
 "nbformat_minor": 5
}
